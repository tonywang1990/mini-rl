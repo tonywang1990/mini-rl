{
  "cells": [
    {
      "cell_type": "code",
      "execution_count": 2,
      "metadata": {},
      "outputs": [
        {
          "name": "stderr",
          "output_type": "stream",
          "text": [
            "/Users/tonywy/micromamba/lib/python3.9/site-packages/tqdm/auto.py:22: TqdmWarning: IProgress not found. Please update jupyter and ipywidgets. See https://ipywidgets.readthedocs.io/en/stable/user_install.html\n",
            "  from .autonotebook import tqdm as notebook_tqdm\n"
          ]
        },
        {
          "name": "stdout",
          "output_type": "stream",
          "text": [
            "using device: cpu\n",
            "dqn_agent test passed!\n",
            "using device: cpu\n",
            "a2c_agent test passed!\n",
            "using device: cpu\n",
            "ppo_agent passed!\n"
          ]
        }
      ],
      "source": [
        "%load_ext autoreload\n",
        "%autoreload 2\n",
        "\n",
        "# Setup Environment\n",
        "import sys\n",
        "import os\n",
        "ROOT = '../../'\n",
        "sys.path.append(ROOT)\n",
        "\n",
        "from pettingzoo.classic import tictactoe_v3\n",
        "import numpy as np\n",
        "import copy\n",
        "from gym.wrappers.monitoring.video_recorder import VideoRecorder\n",
        "from IPython.display import HTML\n",
        "from source.agents.dqn_agent import DQNAgent\n",
        "from source.agents.a2c_agent import A2CAgent\n",
        "from source.agents.ppo_agent import PPOAgent\n",
        "from source.agents.random_agent import RandomAgent\n",
        "from source.utils import utils\n",
        "from tqdm import tqdm\n",
        "import torch\n",
        "import random\n",
        "from typing import Dict, Optional, Tuple\n",
        "from collections import defaultdict\n",
        "from source.agents.agent import Agent\n",
        "from pettingzoo.utils.env import AECEnv"
      ]
    },
    {
      "cell_type": "code",
      "execution_count": 33,
      "metadata": {},
      "outputs": [
        {
          "name": "stdout",
          "output_type": "stream",
          "text": [
            "using device: cpu\n",
            "using device: cpu\n",
            "using device: cpu\n",
            "agents: {'player_1': <source.agents.ppo_agent.PPOAgent object at 0x2b7b7bca0>, 'player_2': <source.agents.ppo_agent.PPOAgent object at 0x2b7b7f7f0>}\n"
          ]
        },
        {
          "name": "stderr",
          "output_type": "stream",
          "text": [
            "100%|██████████| 1000/1000 [00:03<00:00, 296.88it/s]\n"
          ]
        },
        {
          "name": "stdout",
          "output_type": "stream",
          "text": [
            "epoch: 0, win: 452, lose: 435, draw: 113, reward: 0.01700, episode_len: 4.74200, approx_kl: 0.00181, entropy: 2.18228, clip_frac: 0.68001, value_loss: 0.22209, policy_loss: -0.07049, num_policy_udpate: 80.00000\n"
          ]
        },
        {
          "name": "stderr",
          "output_type": "stream",
          "text": [
            "100%|██████████| 1000/1000 [00:03<00:00, 260.22it/s]\n"
          ]
        },
        {
          "name": "stdout",
          "output_type": "stream",
          "text": [
            "epoch: 1, win: 458, lose: 429, draw: 113, reward: 0.02900, episode_len: 4.58700, approx_kl: 0.00603, entropy: 2.09473, clip_frac: 0.76294, value_loss: 0.15340, policy_loss: -0.06746, num_policy_udpate: 65.75000\n"
          ]
        },
        {
          "name": "stderr",
          "output_type": "stream",
          "text": [
            "100%|██████████| 1000/1000 [00:02<00:00, 359.54it/s]\n"
          ]
        },
        {
          "name": "stdout",
          "output_type": "stream",
          "text": [
            "epoch: 2, win: 429, lose: 499, draw: 72, reward: -0.07000, episode_len: 4.30700, approx_kl: 0.01073, entropy: 1.97362, clip_frac: 0.75415, value_loss: 0.16439, policy_loss: -0.06475, num_policy_udpate: 65.50000\n"
          ]
        },
        {
          "name": "stderr",
          "output_type": "stream",
          "text": [
            "100%|██████████| 1000/1000 [00:02<00:00, 463.36it/s]\n"
          ]
        },
        {
          "name": "stdout",
          "output_type": "stream",
          "text": [
            "epoch: 3, win: 438, lose: 481, draw: 81, reward: -0.04300, episode_len: 4.19500, approx_kl: 0.02247, entropy: 1.83890, clip_frac: 0.38184, value_loss: 0.16209, policy_loss: -0.01684, num_policy_udpate: 2.33333\n"
          ]
        },
        {
          "name": "stderr",
          "output_type": "stream",
          "text": [
            "100%|██████████| 1000/1000 [00:02<00:00, 471.00it/s]\n"
          ]
        },
        {
          "name": "stdout",
          "output_type": "stream",
          "text": [
            "epoch: 4, win: 449, lose: 476, draw: 75, reward: -0.02700, episode_len: 4.18900, approx_kl: 0.02371, entropy: 1.74862, clip_frac: 0.24316, value_loss: 0.17075, policy_loss: -0.01129, num_policy_udpate: 1.33333\n"
          ]
        },
        {
          "name": "stderr",
          "output_type": "stream",
          "text": [
            "100%|██████████| 1000/1000 [00:02<00:00, 465.38it/s]\n"
          ]
        },
        {
          "name": "stdout",
          "output_type": "stream",
          "text": [
            "epoch: 5, win: 461, lose: 464, draw: 75, reward: -0.00300, episode_len: 4.11800, approx_kl: 0.02013, entropy: 1.65215, clip_frac: 0.21387, value_loss: 0.18048, policy_loss: -0.00838, num_policy_udpate: 1.00000\n"
          ]
        },
        {
          "name": "stderr",
          "output_type": "stream",
          "text": [
            "100%|██████████| 1000/1000 [00:02<00:00, 466.35it/s]\n"
          ]
        },
        {
          "name": "stdout",
          "output_type": "stream",
          "text": [
            "epoch: 6, win: 465, lose: 433, draw: 102, reward: 0.03200, episode_len: 4.16000, approx_kl: 0.03740, entropy: 1.45391, clip_frac: 0.27124, value_loss: 0.18681, policy_loss: -0.00817, num_policy_udpate: 1.00000\n"
          ]
        },
        {
          "name": "stderr",
          "output_type": "stream",
          "text": [
            "100%|██████████| 1000/1000 [00:02<00:00, 472.30it/s]\n"
          ]
        },
        {
          "name": "stdout",
          "output_type": "stream",
          "text": [
            "epoch: 7, win: 452, lose: 439, draw: 109, reward: 0.01300, episode_len: 4.15100, approx_kl: 0.05047, entropy: 1.29795, clip_frac: 0.39062, value_loss: 0.16048, policy_loss: -0.00709, num_policy_udpate: 1.00000\n"
          ]
        },
        {
          "name": "stderr",
          "output_type": "stream",
          "text": [
            "100%|██████████| 1000/1000 [00:02<00:00, 444.08it/s]\n"
          ]
        },
        {
          "name": "stdout",
          "output_type": "stream",
          "text": [
            "epoch: 8, win: 452, lose: 450, draw: 98, reward: 0.00200, episode_len: 4.20200, approx_kl: 0.05905, entropy: 1.18960, clip_frac: 0.41048, value_loss: 0.15655, policy_loss: -0.00381, num_policy_udpate: 1.00000\n"
          ]
        },
        {
          "name": "stderr",
          "output_type": "stream",
          "text": [
            "100%|██████████| 1000/1000 [00:02<00:00, 428.77it/s]\n"
          ]
        },
        {
          "name": "stdout",
          "output_type": "stream",
          "text": [
            "epoch: 9, win: 403, lose: 449, draw: 148, reward: -0.04600, episode_len: 4.19700, approx_kl: 0.02656, entropy: 1.06492, clip_frac: 0.49609, value_loss: 0.13833, policy_loss: -0.00018, num_policy_udpate: 1.00000\n"
          ]
        },
        {
          "name": "stderr",
          "output_type": "stream",
          "text": [
            "100%|██████████| 1000/1000 [00:02<00:00, 468.95it/s]\n"
          ]
        },
        {
          "name": "stdout",
          "output_type": "stream",
          "text": [
            "epoch: 10, win: 450, lose: 371, draw: 179, reward: 0.07900, episode_len: 4.25500, approx_kl: 0.07665, entropy: 0.87894, clip_frac: 0.49487, value_loss: 0.11552, policy_loss: -0.00239, num_policy_udpate: 1.00000\n"
          ]
        },
        {
          "name": "stderr",
          "output_type": "stream",
          "text": [
            "100%|██████████| 1000/1000 [00:02<00:00, 449.96it/s]\n"
          ]
        },
        {
          "name": "stdout",
          "output_type": "stream",
          "text": [
            "epoch: 11, win: 418, lose: 375, draw: 207, reward: 0.04300, episode_len: 4.25700, approx_kl: 0.07912, entropy: 0.74415, clip_frac: 0.47148, value_loss: 0.11267, policy_loss: -0.00243, num_policy_udpate: 1.00000\n"
          ]
        },
        {
          "name": "stderr",
          "output_type": "stream",
          "text": [
            "100%|██████████| 1000/1000 [00:02<00:00, 446.81it/s]\n"
          ]
        },
        {
          "name": "stdout",
          "output_type": "stream",
          "text": [
            "epoch: 12, win: 410, lose: 300, draw: 290, reward: 0.11000, episode_len: 4.34900, approx_kl: 0.08723, entropy: 0.63922, clip_frac: 0.52620, value_loss: 0.10625, policy_loss: 0.00148, num_policy_udpate: 1.33333\n"
          ]
        },
        {
          "name": "stderr",
          "output_type": "stream",
          "text": [
            "100%|██████████| 1000/1000 [00:02<00:00, 406.39it/s]\n"
          ]
        },
        {
          "name": "stdout",
          "output_type": "stream",
          "text": [
            "epoch: 13, win: 403, lose: 222, draw: 375, reward: 0.18100, episode_len: 4.48900, approx_kl: 0.04855, entropy: 0.58808, clip_frac: 0.49927, value_loss: 0.09591, policy_loss: -0.00456, num_policy_udpate: 1.50000\n"
          ]
        },
        {
          "name": "stderr",
          "output_type": "stream",
          "text": [
            "100%|██████████| 1000/1000 [00:02<00:00, 419.95it/s]\n"
          ]
        },
        {
          "name": "stdout",
          "output_type": "stream",
          "text": [
            "epoch: 14, win: 401, lose: 143, draw: 456, reward: 0.25800, episode_len: 4.67000, approx_kl: 0.09131, entropy: 0.49056, clip_frac: 0.61458, value_loss: 0.08293, policy_loss: -0.00624, num_policy_udpate: 3.00000\n"
          ]
        },
        {
          "name": "stderr",
          "output_type": "stream",
          "text": [
            "100%|██████████| 1000/1000 [00:03<00:00, 326.57it/s]\n"
          ]
        },
        {
          "name": "stdout",
          "output_type": "stream",
          "text": [
            "epoch: 15, win: 323, lose: 101, draw: 576, reward: 0.22200, episode_len: 4.94300, approx_kl: 0.12056, entropy: 0.37195, clip_frac: 0.65210, value_loss: 0.06542, policy_loss: 0.00402, num_policy_udpate: 1.00000\n"
          ]
        },
        {
          "name": "stderr",
          "output_type": "stream",
          "text": [
            "100%|██████████| 1000/1000 [00:02<00:00, 357.42it/s]\n"
          ]
        },
        {
          "name": "stdout",
          "output_type": "stream",
          "text": [
            "epoch: 16, win: 255, lose: 76, draw: 669, reward: 0.17900, episode_len: 5.07400, approx_kl: 0.04335, entropy: 0.38974, clip_frac: 0.63379, value_loss: 0.06161, policy_loss: 0.00189, num_policy_udpate: 1.66667\n"
          ]
        },
        {
          "name": "stderr",
          "output_type": "stream",
          "text": [
            "100%|██████████| 1000/1000 [00:02<00:00, 376.93it/s]\n"
          ]
        },
        {
          "name": "stdout",
          "output_type": "stream",
          "text": [
            "epoch: 17, win: 329, lose: 64, draw: 607, reward: 0.26500, episode_len: 4.91600, approx_kl: 0.29719, entropy: 0.21732, clip_frac: 0.74040, value_loss: 0.05376, policy_loss: 0.02781, num_policy_udpate: 1.00000\n"
          ]
        },
        {
          "name": "stderr",
          "output_type": "stream",
          "text": [
            "100%|██████████| 1000/1000 [00:02<00:00, 356.41it/s]\n"
          ]
        },
        {
          "name": "stdout",
          "output_type": "stream",
          "text": [
            "epoch: 18, win: 329, lose: 48, draw: 623, reward: 0.28100, episode_len: 5.03300, approx_kl: 0.17602, entropy: 0.14799, clip_frac: 0.75664, value_loss: 0.05176, policy_loss: 0.01747, num_policy_udpate: 2.60000\n"
          ]
        },
        {
          "name": "stderr",
          "output_type": "stream",
          "text": [
            "100%|██████████| 1000/1000 [00:02<00:00, 360.62it/s]\n"
          ]
        },
        {
          "name": "stdout",
          "output_type": "stream",
          "text": [
            "epoch: 19, win: 453, lose: 94, draw: 453, reward: 0.35900, episode_len: 4.90200, approx_kl: 0.15222, entropy: 0.19055, clip_frac: 0.67993, value_loss: 0.04478, policy_loss: 0.02523, num_policy_udpate: 1.25000\n"
          ]
        },
        {
          "name": "stderr",
          "output_type": "stream",
          "text": [
            "100%|██████████| 1000/1000 [00:02<00:00, 365.84it/s]\n"
          ]
        },
        {
          "name": "stdout",
          "output_type": "stream",
          "text": [
            "epoch: 20, win: 341, lose: 77, draw: 582, reward: 0.26400, episode_len: 5.00700, approx_kl: 0.08079, entropy: 0.10493, clip_frac: 0.63037, value_loss: 0.04754, policy_loss: 0.01237, num_policy_udpate: 1.25000\n"
          ]
        },
        {
          "name": "stderr",
          "output_type": "stream",
          "text": [
            "100%|██████████| 1000/1000 [00:03<00:00, 297.30it/s]\n"
          ]
        },
        {
          "name": "stdout",
          "output_type": "stream",
          "text": [
            "epoch: 21, win: 131, lose: 24, draw: 845, reward: 0.10700, episode_len: 5.30900, approx_kl: 0.00466, entropy: 0.12108, clip_frac: 0.64551, value_loss: 0.02121, policy_loss: -0.00078, num_policy_udpate: 27.66667\n"
          ]
        },
        {
          "name": "stderr",
          "output_type": "stream",
          "text": [
            "100%|██████████| 1000/1000 [00:03<00:00, 324.04it/s]\n"
          ]
        },
        {
          "name": "stdout",
          "output_type": "stream",
          "text": [
            "epoch: 22, win: 42, lose: 26, draw: 932, reward: 0.01600, episode_len: 5.43200, approx_kl: 0.03795, entropy: 0.16359, clip_frac: 0.58313, value_loss: 0.01555, policy_loss: -0.00685, num_policy_udpate: 12.50000\n"
          ]
        },
        {
          "name": "stderr",
          "output_type": "stream",
          "text": [
            "100%|██████████| 1000/1000 [00:03<00:00, 279.86it/s]\n"
          ]
        },
        {
          "name": "stdout",
          "output_type": "stream",
          "text": [
            "epoch: 23, win: 28, lose: 14, draw: 958, reward: 0.01400, episode_len: 5.47300, approx_kl: -0.03406, entropy: 0.09447, clip_frac: 0.50439, value_loss: 0.00744, policy_loss: -0.00986, num_policy_udpate: 21.25000\n"
          ]
        },
        {
          "name": "stderr",
          "output_type": "stream",
          "text": [
            "100%|██████████| 1000/1000 [00:03<00:00, 285.06it/s]\n"
          ]
        },
        {
          "name": "stdout",
          "output_type": "stream",
          "text": [
            "epoch: 24, win: 113, lose: 9, draw: 878, reward: 0.10400, episode_len: 5.36000, approx_kl: -0.23847, entropy: 0.07897, clip_frac: 0.55215, value_loss: 0.01136, policy_loss: -0.01254, num_policy_udpate: 48.40000\n"
          ]
        },
        {
          "name": "stderr",
          "output_type": "stream",
          "text": [
            "100%|██████████| 1000/1000 [00:02<00:00, 339.71it/s]\n"
          ]
        },
        {
          "name": "stdout",
          "output_type": "stream",
          "text": [
            "epoch: 25, win: 387, lose: 17, draw: 596, reward: 0.37000, episode_len: 4.84300, approx_kl: -0.31164, entropy: 0.08263, clip_frac: 0.74238, value_loss: 0.02275, policy_loss: 0.00106, num_policy_udpate: 33.00000\n"
          ]
        },
        {
          "name": "stderr",
          "output_type": "stream",
          "text": [
            "100%|██████████| 1000/1000 [00:02<00:00, 403.22it/s]\n"
          ]
        },
        {
          "name": "stdout",
          "output_type": "stream",
          "text": [
            "epoch: 26, win: 314, lose: 85, draw: 601, reward: 0.22900, episode_len: 4.83700, approx_kl: 0.17541, entropy: 0.16751, clip_frac: 0.71113, value_loss: 0.05521, policy_loss: 0.03745, num_policy_udpate: 1.00000\n"
          ]
        },
        {
          "name": "stderr",
          "output_type": "stream",
          "text": [
            "100%|██████████| 1000/1000 [00:03<00:00, 306.47it/s]\n"
          ]
        },
        {
          "name": "stdout",
          "output_type": "stream",
          "text": [
            "epoch: 27, win: 135, lose: 70, draw: 795, reward: 0.06500, episode_len: 5.25200, approx_kl: 0.10272, entropy: 0.10964, clip_frac: 0.56803, value_loss: 0.04797, policy_loss: 0.00348, num_policy_udpate: 14.16667\n"
          ]
        },
        {
          "name": "stderr",
          "output_type": "stream",
          "text": [
            "100%|██████████| 1000/1000 [00:02<00:00, 350.16it/s]\n"
          ]
        },
        {
          "name": "stdout",
          "output_type": "stream",
          "text": [
            "epoch: 28, win: 137, lose: 49, draw: 814, reward: 0.08800, episode_len: 5.32700, approx_kl: 0.02219, entropy: 0.18552, clip_frac: 0.62467, value_loss: 0.03293, policy_loss: 0.00713, num_policy_udpate: 14.16667\n"
          ]
        },
        {
          "name": "stderr",
          "output_type": "stream",
          "text": [
            "100%|██████████| 1000/1000 [00:02<00:00, 373.32it/s]\n"
          ]
        },
        {
          "name": "stdout",
          "output_type": "stream",
          "text": [
            "epoch: 29, win: 310, lose: 33, draw: 657, reward: 0.27700, episode_len: 5.16300, approx_kl: 0.14159, entropy: 0.15003, clip_frac: 0.51074, value_loss: 0.03158, policy_loss: 0.00246, num_policy_udpate: 1.00000\n"
          ]
        },
        {
          "name": "stderr",
          "output_type": "stream",
          "text": [
            "100%|██████████| 1000/1000 [00:02<00:00, 333.79it/s]\n"
          ]
        },
        {
          "name": "stdout",
          "output_type": "stream",
          "text": [
            "epoch: 30, win: 185, lose: 38, draw: 777, reward: 0.14700, episode_len: 5.20900, approx_kl: 0.00069, entropy: 0.15192, clip_frac: 0.53976, value_loss: 0.02426, policy_loss: -0.00895, num_policy_udpate: 14.00000\n"
          ]
        },
        {
          "name": "stderr",
          "output_type": "stream",
          "text": [
            "100%|██████████| 1000/1000 [00:03<00:00, 293.17it/s]\n"
          ]
        },
        {
          "name": "stdout",
          "output_type": "stream",
          "text": [
            "epoch: 31, win: 71, lose: 24, draw: 905, reward: 0.04700, episode_len: 5.38900, approx_kl: 0.06314, entropy: 0.13380, clip_frac: 0.48027, value_loss: 0.01115, policy_loss: -0.01101, num_policy_udpate: 2.20000\n"
          ]
        },
        {
          "name": "stderr",
          "output_type": "stream",
          "text": [
            "100%|██████████| 1000/1000 [00:03<00:00, 302.11it/s]\n"
          ]
        },
        {
          "name": "stdout",
          "output_type": "stream",
          "text": [
            "epoch: 32, win: 18, lose: 13, draw: 969, reward: 0.00500, episode_len: 5.44100, approx_kl: 0.04533, entropy: 0.14829, clip_frac: 0.56055, value_loss: 0.00722, policy_loss: -0.00115, num_policy_udpate: 2.80000\n"
          ]
        },
        {
          "name": "stderr",
          "output_type": "stream",
          "text": [
            "100%|██████████| 1000/1000 [00:03<00:00, 313.03it/s]\n"
          ]
        },
        {
          "name": "stdout",
          "output_type": "stream",
          "text": [
            "epoch: 33, win: 13, lose: 18, draw: 969, reward: -0.00500, episode_len: 5.44100, approx_kl: -0.09903, entropy: 0.14201, clip_frac: 0.35254, value_loss: 0.00686, policy_loss: -0.00701, num_policy_udpate: 32.60000\n"
          ]
        },
        {
          "name": "stderr",
          "output_type": "stream",
          "text": [
            "100%|██████████| 1000/1000 [00:02<00:00, 341.64it/s]\n"
          ]
        },
        {
          "name": "stdout",
          "output_type": "stream",
          "text": [
            "epoch: 34, win: 10, lose: 15, draw: 975, reward: -0.00500, episode_len: 5.46700, approx_kl: 0.00249, entropy: 0.15228, clip_frac: 0.27441, value_loss: 0.00473, policy_loss: -0.00573, num_policy_udpate: 14.16667\n"
          ]
        },
        {
          "name": "stderr",
          "output_type": "stream",
          "text": [
            "100%|██████████| 1000/1000 [00:03<00:00, 293.69it/s]\n"
          ]
        },
        {
          "name": "stdout",
          "output_type": "stream",
          "text": [
            "epoch: 35, win: 5, lose: 5, draw: 990, reward: 0.00000, episode_len: 5.48700, approx_kl: -0.05297, entropy: 0.17312, clip_frac: 0.38128, value_loss: 0.00183, policy_loss: -0.00920, num_policy_udpate: 12.57143\n"
          ]
        },
        {
          "name": "stderr",
          "output_type": "stream",
          "text": [
            "100%|██████████| 1000/1000 [00:03<00:00, 329.88it/s]\n"
          ]
        },
        {
          "name": "stdout",
          "output_type": "stream",
          "text": [
            "epoch: 36, win: 7, lose: 8, draw: 985, reward: -0.00100, episode_len: 5.46100, approx_kl: -0.02009, entropy: 0.23582, clip_frac: 0.32734, value_loss: 0.00380, policy_loss: -0.00442, num_policy_udpate: 16.80000\n"
          ]
        },
        {
          "name": "stderr",
          "output_type": "stream",
          "text": [
            "100%|██████████| 1000/1000 [00:03<00:00, 310.43it/s]\n"
          ]
        },
        {
          "name": "stdout",
          "output_type": "stream",
          "text": [
            "epoch: 37, win: 6, lose: 9, draw: 985, reward: -0.00300, episode_len: 5.49600, approx_kl: -0.16720, entropy: 0.16873, clip_frac: 0.48203, value_loss: 0.00337, policy_loss: -0.01166, num_policy_udpate: 48.60000\n"
          ]
        },
        {
          "name": "stderr",
          "output_type": "stream",
          "text": [
            "100%|██████████| 1000/1000 [00:03<00:00, 316.96it/s]\n"
          ]
        },
        {
          "name": "stdout",
          "output_type": "stream",
          "text": [
            "epoch: 38, win: 2, lose: 5, draw: 993, reward: -0.00300, episode_len: 5.52100, approx_kl: -0.05029, entropy: 0.15614, clip_frac: 0.30820, value_loss: 0.00167, policy_loss: -0.00669, num_policy_udpate: 16.80000\n"
          ]
        },
        {
          "name": "stderr",
          "output_type": "stream",
          "text": [
            "100%|██████████| 1000/1000 [00:03<00:00, 310.11it/s]\n"
          ]
        },
        {
          "name": "stdout",
          "output_type": "stream",
          "text": [
            "epoch: 39, win: 4, lose: 15, draw: 981, reward: -0.01100, episode_len: 5.48100, approx_kl: 0.01923, entropy: 0.24826, clip_frac: 0.42334, value_loss: 0.00137, policy_loss: -0.00663, num_policy_udpate: 21.00000\n"
          ]
        },
        {
          "name": "stderr",
          "output_type": "stream",
          "text": [
            "100%|██████████| 1000/1000 [00:02<00:00, 338.69it/s]\n"
          ]
        },
        {
          "name": "stdout",
          "output_type": "stream",
          "text": [
            "epoch: 40, win: 7, lose: 19, draw: 974, reward: -0.01200, episode_len: 5.48200, approx_kl: 0.04166, entropy: 0.17587, clip_frac: 0.29175, value_loss: 0.00539, policy_loss: -0.00378, num_policy_udpate: 1.00000\n"
          ]
        },
        {
          "name": "stderr",
          "output_type": "stream",
          "text": [
            "100%|██████████| 1000/1000 [00:02<00:00, 344.98it/s]\n"
          ]
        },
        {
          "name": "stdout",
          "output_type": "stream",
          "text": [
            "epoch: 41, win: 5, lose: 13, draw: 982, reward: -0.00800, episode_len: 5.52800, approx_kl: 0.03205, entropy: 0.27100, clip_frac: 0.19792, value_loss: 0.00396, policy_loss: -0.00440, num_policy_udpate: 1.16667\n"
          ]
        },
        {
          "name": "stderr",
          "output_type": "stream",
          "text": [
            "100%|██████████| 1000/1000 [00:03<00:00, 308.51it/s]\n"
          ]
        },
        {
          "name": "stdout",
          "output_type": "stream",
          "text": [
            "epoch: 42, win: 2, lose: 26, draw: 972, reward: -0.02400, episode_len: 5.45400, approx_kl: -0.14053, entropy: 0.22369, clip_frac: 0.39209, value_loss: 0.00401, policy_loss: -0.00937, num_policy_udpate: 44.83333\n"
          ]
        },
        {
          "name": "stderr",
          "output_type": "stream",
          "text": [
            "100%|██████████| 1000/1000 [00:03<00:00, 320.67it/s]\n"
          ]
        },
        {
          "name": "stdout",
          "output_type": "stream",
          "text": [
            "epoch: 43, win: 6, lose: 46, draw: 948, reward: -0.04000, episode_len: 5.46100, approx_kl: -0.02968, entropy: 0.28065, clip_frac: 0.25352, value_loss: 0.00709, policy_loss: -0.00498, num_policy_udpate: 16.80000\n"
          ]
        },
        {
          "name": "stderr",
          "output_type": "stream",
          "text": [
            "100%|██████████| 1000/1000 [00:03<00:00, 333.32it/s]\n"
          ]
        },
        {
          "name": "stdout",
          "output_type": "stream",
          "text": [
            "epoch: 44, win: 12, lose: 104, draw: 884, reward: -0.09200, episode_len: 5.40700, approx_kl: -0.03802, entropy: 0.35588, clip_frac: 0.35938, value_loss: 0.00662, policy_loss: -0.01168, num_policy_udpate: 18.20000\n"
          ]
        },
        {
          "name": "stderr",
          "output_type": "stream",
          "text": [
            "100%|██████████| 1000/1000 [00:02<00:00, 370.27it/s]\n"
          ]
        },
        {
          "name": "stdout",
          "output_type": "stream",
          "text": [
            "epoch: 45, win: 10, lose: 252, draw: 738, reward: -0.24200, episode_len: 5.23300, approx_kl: 0.02407, entropy: 0.49749, clip_frac: 0.21152, value_loss: 0.00642, policy_loss: -0.00770, num_policy_udpate: 1.40000\n"
          ]
        },
        {
          "name": "stderr",
          "output_type": "stream",
          "text": [
            "100%|██████████| 1000/1000 [00:02<00:00, 385.05it/s]\n"
          ]
        },
        {
          "name": "stdout",
          "output_type": "stream",
          "text": [
            "epoch: 46, win: 21, lose: 347, draw: 632, reward: -0.32600, episode_len: 5.12100, approx_kl: 0.06709, entropy: 0.46565, clip_frac: 0.38135, value_loss: 0.01027, policy_loss: -0.00906, num_policy_udpate: 1.00000\n"
          ]
        },
        {
          "name": "stderr",
          "output_type": "stream",
          "text": [
            "100%|██████████| 1000/1000 [00:02<00:00, 339.87it/s]\n"
          ]
        },
        {
          "name": "stdout",
          "output_type": "stream",
          "text": [
            "epoch: 47, win: 28, lose: 163, draw: 809, reward: -0.13500, episode_len: 5.30200, approx_kl: -0.01722, entropy: 0.45386, clip_frac: 0.59375, value_loss: 0.03458, policy_loss: 0.04060, num_policy_udpate: 17.00000\n"
          ]
        },
        {
          "name": "stderr",
          "output_type": "stream",
          "text": [
            "100%|██████████| 1000/1000 [00:03<00:00, 332.44it/s]\n"
          ]
        },
        {
          "name": "stdout",
          "output_type": "stream",
          "text": [
            "epoch: 48, win: 71, lose: 309, draw: 620, reward: -0.23800, episode_len: 4.79400, approx_kl: -0.01426, entropy: 0.57927, clip_frac: 0.67168, value_loss: 0.05503, policy_loss: -0.00936, num_policy_udpate: 32.80000\n"
          ]
        },
        {
          "name": "stderr",
          "output_type": "stream",
          "text": [
            "100%|██████████| 1000/1000 [00:02<00:00, 398.45it/s]\n"
          ]
        },
        {
          "name": "stdout",
          "output_type": "stream",
          "text": [
            "epoch: 49, win: 125, lose: 183, draw: 692, reward: -0.05800, episode_len: 4.96000, approx_kl: 0.03156, entropy: 0.49355, clip_frac: 0.38477, value_loss: 0.05090, policy_loss: -0.00215, num_policy_udpate: 1.33333\n"
          ]
        },
        {
          "data": {
            "image/png": "[encoded data removed]",
            "text/plain": [
              "<Figure size 1600x400 with 1 Axes>"
            ]
          },
          "metadata": {},
          "output_type": "display_data"
        }
      ],
      "source": [
        "# Policy Eval\n",
        "# Params\n",
        "env = tictactoe_v3.env()\n",
        "\n",
        "# set random seeds\n",
        "random_seed = 101\n",
        "rng = np.random.default_rng(random_seed)\n",
        "env.np_random = rng\n",
        "#random.seed(random_seed)\n",
        "#torch.manual_seed(random_seed)\n",
        "\n",
        "# Create Environment.\n",
        "#env = gym.make('Taxi-v3')\n",
        "# using render_mode=rgb_array so that video recording works\n",
        "#env = gym.make(\n",
        "#    \"LunarLander-v2\",\n",
        "#    render_mode='rgb_array'\n",
        "#)\n",
        "#env = gym.make(\"CarRacing-v2\", render_mode='rgb_array', continuous=False)\n",
        "#env = gym.make(\"CartPole-v1\", render_mode='rgb_array')\n",
        "\n",
        "\n",
        "# Create Agent\n",
        "## Best performance (dqn, random): 0 loss in 1000, eps_decay=1e7\n",
        "## Best performance (dqn, dqn): 1000 draw in 1000, eps_decay=1e8\n",
        "dqn_agent = DQNAgent(\n",
        "    state_space=env.observation_space('player_1')['observation'],\n",
        "    action_space=env.action_space('player_1'),\n",
        "    discount_rate=0.5,\n",
        "    epsilon=0.9, # use epsilon_schedule\n",
        "    learning_rate=1e-3,\n",
        "    learning=True,\n",
        "    batch_size = 64,\n",
        "    tau = 0.005,\n",
        "    eps_decay=1e7, #1e7 for (dqn, random), 1e8 for (dqn, dqn)\n",
        "    net_params=[128],\n",
        "    update_freq=1\n",
        ")\n",
        "## Best performance (a2c, random): ~50 loss in 1000, discount=0.5, width=256\n",
        "## \n",
        "a2c_agent = A2CAgent(\n",
        "    state_space=env.observation_space('player_1')['observation'],\n",
        "    action_space=env.action_space('player_1'),\n",
        "    discount_rate=0.5,\n",
        "    epsilon=None, # use epsilon_schedule\n",
        "    learning_rate=None,\n",
        "    policy_lr=1e-3,\n",
        "    value_lr=1e-3,\n",
        "    net_params=[256], #128 perform best with temp = 1\n",
        "    tempreture=1\n",
        ")\n",
        "ppo_agent = PPOAgent(\n",
        "    state_space=env.observation_space('player_1')['observation'],\n",
        "    action_space=env.action_space('player_1'),\n",
        "    discount_rate=0.75,\n",
        "    epsilon=None, # use epsilon_schedule\n",
        "    learning_rate=None,\n",
        "    policy_lr=1e-3, #spinup default=3e-4\n",
        "    value_lr=1e-3, #spinup default=1e-3\n",
        "    net_params=[128, 32],\n",
        "    gae_lambda=1.0, #spinup default=0.97\n",
        "    clip_ratio=0.1, #spinup default=0.1\n",
        "    num_updates=80, #spinup default=80\n",
        "    batch_size=1024,\n",
        ")\n",
        "random_agent = RandomAgent(    \n",
        "    state_space=env.observation_space('player_2')['observation'],\n",
        "    action_space=env.action_space('player_2'),\n",
        "    discount_rate=None,\n",
        "    epsilon=None, # use epsilon_schedule\n",
        "    learning_rate=None,\n",
        "    learning=False\n",
        ")\n",
        "agent_dict={'player_1': ppo_agent, 'player_2': copy.deepcopy(ppo_agent)}\n",
        "stats = utils.duel_training(\n",
        "    env=env, \n",
        "    agent_dict=agent_dict, \n",
        "    num_epoch=50, \n",
        "    num_episode=1000, \n",
        "    self_play=False, \n",
        "    shuffle=True, \n",
        "    verbal=True,\n",
        "    debug=False\n",
        ")"
      ]
    },
    {
      "cell_type": "code",
      "execution_count": 32,
      "metadata": {},
      "outputs": [
        {
          "name": "stdout",
          "output_type": "stream",
          "text": [
            "     |     |     \n",
            "  -  |  -  |  -  \n",
            "_____|_____|_____\n",
            "     |     |     \n",
            "  -  |  X  |  -  \n",
            "_____|_____|_____\n",
            "     |     |     \n",
            "  -  |  -  |  -  \n",
            "     |     |     \n",
            "     |     |     \n",
            "  O  |  -  |  -  \n",
            "_____|_____|_____\n",
            "     |     |     \n",
            "  -  |  X  |  -  \n",
            "_____|_____|_____\n",
            "     |     |     \n",
            "  -  |  -  |  -  \n",
            "     |     |     \n",
            "     |     |     \n",
            "  O  |  X  |  -  \n",
            "_____|_____|_____\n",
            "     |     |     \n",
            "  -  |  X  |  -  \n",
            "_____|_____|_____\n",
            "     |     |     \n",
            "  -  |  -  |  -  \n",
            "     |     |     \n",
            "     |     |     \n",
            "  O  |  X  |  -  \n",
            "_____|_____|_____\n",
            "     |     |     \n",
            "  -  |  X  |  -  \n",
            "_____|_____|_____\n",
            "     |     |     \n",
            "  -  |  O  |  -  \n",
            "     |     |     \n",
            "     |     |     \n",
            "  O  |  X  |  -  \n",
            "_____|_____|_____\n",
            "     |     |     \n",
            "  -  |  X  |  -  \n",
            "_____|_____|_____\n",
            "     |     |     \n",
            "  X  |  O  |  -  \n",
            "     |     |     \n",
            "     |     |     \n",
            "  O  |  X  |  O  \n",
            "_____|_____|_____\n",
            "     |     |     \n",
            "  -  |  X  |  -  \n",
            "_____|_____|_____\n",
            "     |     |     \n",
            "  X  |  O  |  -  \n",
            "     |     |     \n",
            "     |     |     \n",
            "  O  |  X  |  O  \n",
            "_____|_____|_____\n",
            "     |     |     \n",
            "  -  |  X  |  -  \n",
            "_____|_____|_____\n",
            "     |     |     \n",
            "  X  |  O  |  X  \n",
            "     |     |     \n",
            "     |     |     \n",
            "  O  |  X  |  O  \n",
            "_____|_____|_____\n",
            "     |     |     \n",
            "  -  |  X  |  O  \n",
            "_____|_____|_____\n",
            "     |     |     \n",
            "  X  |  O  |  X  \n",
            "     |     |     \n",
            "     |     |     \n",
            "  O  |  X  |  O  \n",
            "_____|_____|_____\n",
            "     |     |     \n",
            "  X  |  X  |  O  \n",
            "_____|_____|_____\n",
            "     |     |     \n",
            "  X  |  O  |  X  \n",
            "     |     |     \n"
          ]
        },
        {
          "data": {
            "text/plain": [
              "defaultdict(<function source.utils.utils.play_multiagent_episode.<locals>.<lambda>()>,\n",
              "            {'player_1': defaultdict(float,\n",
              "                         {'reward': 0.0, 'episode_len': 6.0}),\n",
              "             'player_2': defaultdict(float,\n",
              "                         {'reward': 0.0, 'episode_len': 5.0})})"
            ]
          },
          "execution_count": 32,
          "metadata": {},
          "output_type": "execute_result"
        }
      ],
      "source": [
        "env = tictactoe_v3.env(render_mode='human')\n",
        "utils.play_multiagent_episode(agent_dict, env, shuffle=False,debug=False)\n",
        "#html=utils.render_mp4(video_path)\n",
        "#HTML(html)\n"
      ]
    },
    {
      "cell_type": "markdown",
      "metadata": {},
      "source": []
    },
    {
      "cell_type": "code",
      "execution_count": null,
      "metadata": {},
      "outputs": [],
      "source": []
    },
    {
      "cell_type": "code",
      "execution_count": null,
      "metadata": {},
      "outputs": [],
      "source": []
    }
  ],
  "metadata": {
    "colab": {
      "collapsed_sections": [],
      "include_colab_link": true,
      "provenance": []
    },
    "kernelspec": {
      "display_name": "Python 3.9.13 ('base')",
      "language": "python",
      "name": "python3"
    },
    "language_info": {
      "codemirror_mode": {
        "name": "ipython",
        "version": 3
      },
      "file_extension": ".py",
      "mimetype": "text/x-python",
      "name": "python",
      "nbconvert_exporter": "python",
      "pygments_lexer": "ipython3",
      "version": "3.9.13"
    },
    "vscode": {
      "interpreter": {
        "hash": "b007964239c9846de49217bea874a76b6e18c6041f326c6a02623c321aae0990"
      }
    }
  },
  "nbformat": 4,
  "nbformat_minor": 0
}
