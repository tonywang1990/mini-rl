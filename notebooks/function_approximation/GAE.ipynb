{
  "cells": [
    {
      "cell_type": "code",
      "execution_count": 1,
      "metadata": {},
      "outputs": [
        {
          "name": "stderr",
          "output_type": "stream",
          "text": [
            "/Users/tonywy/micromamba/lib/python3.9/site-packages/tqdm/auto.py:22: TqdmWarning: IProgress not found. Please update jupyter and ipywidgets. See https://ipywidgets.readthedocs.io/en/stable/user_install.html\n",
            "  from .autonotebook import tqdm as notebook_tqdm\n"
          ]
        },
        {
          "name": "stdout",
          "output_type": "stream",
          "text": [
            "using device: cpu\n",
            "gae_agent passed!\n"
          ]
        }
      ],
      "source": [
        "%load_ext autoreload\n",
        "%autoreload 2\n",
        "\n",
        "# Setup Environment\n",
        "import sys\n",
        "import os\n",
        "ROOT = '../../'\n",
        "sys.path.append(ROOT)\n",
        "\n",
        "import gym\n",
        "from gym.spaces import Discrete\n",
        "import numpy as np\n",
        "from gym.wrappers.monitoring.video_recorder import VideoRecorder\n",
        "from IPython.display import HTML\n",
        "from source.agents.gae_agent import GAEAgent\n",
        "from source.utils import utils\n",
        "from tqdm import tqdm\n",
        "import torch\n",
        "import random"
      ]
    },
    {
      "cell_type": "code",
      "execution_count": 2,
      "metadata": {},
      "outputs": [
        {
          "name": "stdout",
          "output_type": "stream",
          "text": [
            "using device: cpu\n"
          ]
        },
        {
          "name": "stderr",
          "output_type": "stream",
          "text": [
            "100%|██████████| 100/100 [00:01<00:00, 78.22it/s]\n"
          ]
        },
        {
          "name": "stdout",
          "output_type": "stream",
          "text": [
            "step: 0, average_return: 21.744897959183675, success rate: 1.0\n"
          ]
        },
        {
          "name": "stderr",
          "output_type": "stream",
          "text": [
            "100%|██████████| 100/100 [00:01<00:00, 84.01it/s]\n"
          ]
        },
        {
          "name": "stdout",
          "output_type": "stream",
          "text": [
            "step: 1, average_return: 21.591836734693878, success rate: 1.0\n"
          ]
        },
        {
          "name": "stderr",
          "output_type": "stream",
          "text": [
            "100%|██████████| 100/100 [00:01<00:00, 67.71it/s]\n"
          ]
        },
        {
          "name": "stdout",
          "output_type": "stream",
          "text": [
            "step: 2, average_return: 30.244897959183675, success rate: 1.0\n"
          ]
        },
        {
          "name": "stderr",
          "output_type": "stream",
          "text": [
            "100%|██████████| 100/100 [00:04<00:00, 24.09it/s]\n"
          ]
        },
        {
          "name": "stdout",
          "output_type": "stream",
          "text": [
            "step: 3, average_return: 81.3061224489796, success rate: 1.0\n"
          ]
        },
        {
          "name": "stderr",
          "output_type": "stream",
          "text": [
            "100%|██████████| 100/100 [00:09<00:00, 10.33it/s]\n"
          ]
        },
        {
          "name": "stdout",
          "output_type": "stream",
          "text": [
            "step: 4, average_return: 202.25510204081633, success rate: 1.0\n"
          ]
        },
        {
          "name": "stderr",
          "output_type": "stream",
          "text": [
            "100%|██████████| 100/100 [00:16<00:00,  6.13it/s]\n"
          ]
        },
        {
          "name": "stdout",
          "output_type": "stream",
          "text": [
            "step: 5, average_return: 338.7551020408163, success rate: 1.0\n"
          ]
        },
        {
          "name": "stderr",
          "output_type": "stream",
          "text": [
            "100%|██████████| 100/100 [00:21<00:00,  4.55it/s]\n"
          ]
        },
        {
          "name": "stdout",
          "output_type": "stream",
          "text": [
            "step: 6, average_return: 424.46938775510205, success rate: 1.0\n"
          ]
        },
        {
          "name": "stderr",
          "output_type": "stream",
          "text": [
            "100%|██████████| 100/100 [00:22<00:00,  4.39it/s]\n"
          ]
        },
        {
          "name": "stdout",
          "output_type": "stream",
          "text": [
            "step: 7, average_return: 479.7142857142857, success rate: 1.0\n"
          ]
        },
        {
          "name": "stderr",
          "output_type": "stream",
          "text": [
            "100%|██████████| 100/100 [00:23<00:00,  4.18it/s]\n"
          ]
        },
        {
          "name": "stdout",
          "output_type": "stream",
          "text": [
            "step: 8, average_return: 492.2755102040816, success rate: 1.0\n"
          ]
        },
        {
          "name": "stderr",
          "output_type": "stream",
          "text": [
            "100%|██████████| 100/100 [00:23<00:00,  4.18it/s]\n"
          ]
        },
        {
          "name": "stdout",
          "output_type": "stream",
          "text": [
            "step: 9, average_return: 489.8469387755102, success rate: 1.0\n"
          ]
        },
        {
          "name": "stderr",
          "output_type": "stream",
          "text": [
            "100%|██████████| 100/100 [00:24<00:00,  4.10it/s]\n"
          ]
        },
        {
          "name": "stdout",
          "output_type": "stream",
          "text": [
            "step: 10, average_return: 498.7551020408163, success rate: 1.0\n"
          ]
        },
        {
          "name": "stderr",
          "output_type": "stream",
          "text": [
            "100%|██████████| 100/100 [00:25<00:00,  3.94it/s]\n"
          ]
        },
        {
          "name": "stdout",
          "output_type": "stream",
          "text": [
            "step: 11, average_return: 499.8775510204082, success rate: 1.0\n"
          ]
        },
        {
          "name": "stderr",
          "output_type": "stream",
          "text": [
            "100%|██████████| 100/100 [00:24<00:00,  4.10it/s]\n"
          ]
        },
        {
          "name": "stdout",
          "output_type": "stream",
          "text": [
            "step: 12, average_return: 498.2959183673469, success rate: 1.0\n"
          ]
        },
        {
          "name": "stderr",
          "output_type": "stream",
          "text": [
            "100%|██████████| 100/100 [00:24<00:00,  4.14it/s]\n"
          ]
        },
        {
          "name": "stdout",
          "output_type": "stream",
          "text": [
            "step: 13, average_return: 500.0, success rate: 1.0\n"
          ]
        },
        {
          "name": "stderr",
          "output_type": "stream",
          "text": [
            "100%|██████████| 100/100 [00:23<00:00,  4.26it/s]\n"
          ]
        },
        {
          "name": "stdout",
          "output_type": "stream",
          "text": [
            "step: 14, average_return: 497.57142857142856, success rate: 1.0\n"
          ]
        },
        {
          "name": "stderr",
          "output_type": "stream",
          "text": [
            " 40%|████      | 40/100 [00:09<00:13,  4.36it/s]"
          ]
        }
      ],
      "source": [
        "# Policy Eval\n",
        "# Params\n",
        "num_epoch = 20\n",
        "num_episode = 100\n",
        "video_path = os.path.join(ROOT, \"video/reinforce_with_baseline.mp4\")\n",
        "random_seed = 101\n",
        "\n",
        "# Initialize\n",
        "history = []\n",
        "total_reward = 0\n",
        "# set random seeds\n",
        "rng = np.random.default_rng(random_seed)\n",
        "#random.seed(random_seed)\n",
        "np.random.seed(random_seed)\n",
        "#torch.manual_seed(random_seed)\n",
        "\n",
        "# Create Environment.\n",
        "#env = gym.make('Taxi-v3')\n",
        "# using render_mode=rgb_array so that video recording works\n",
        "#env = gym.make(\n",
        "#    \"LunarLander-v2\",\n",
        "#    render_mode='rgb_array'\n",
        "#)\n",
        "env = gym.make(\"CartPole-v1\", render_mode='rgb_array')\n",
        "#env = gym.make(\"CarRacing-v2\", render_mode='rgb_array', continuous=False)\n",
        "env.np_random = rng\n",
        "\n",
        "# Create Agent\n",
        "agent = GAEAgent(\n",
        "    state_space=env.observation_space,\n",
        "    action_space=env.action_space,\n",
        "    discount_rate=0.99,\n",
        "    epsilon=None, # use epsilon_schedule\n",
        "    learning_rate=None,\n",
        "    policy_lr=1e-3,\n",
        "    value_lr=1e-3,\n",
        "    net_params={'width':32, 'n_hidden':1},\n",
        "    exp_average_discount=1.0\n",
        ")\n",
        "# Start Learning\n",
        "for i in range(num_epoch):\n",
        "    success = 0\n",
        "    for _ in tqdm(range(num_episode)):\n",
        "        reward, steps = utils.play_episode(agent, env)\n",
        "        if reward > 0:\n",
        "            success += 1\n",
        "        history.append(reward)\n",
        "        total_reward += reward\n",
        "    print(\n",
        "        f\"step: {i}, average_return: {np.mean(history[-num_episode+1:-1])}, success rate: {success / num_episode}\")\n",
        "print(f\"\\nrewarding episodes: {total_reward}\")\n",
        "\n",
        "# For off policy learning only: get greedy policy (no exploration)\n",
        "#agent._policy = get_epsilon_greedy_policy_from_action_values(agent._Q.weight)\n",
        "# Run Eval\n",
        "avarge_return, success_rate = utils.evaluate_agent(agent, env, num_episode=100, threshold=500)\n",
        "print(f\"Average return = {avarge_return}, Success rate = {success_rate}\")\n",
        "\n",
        "# play last episode with video recording\n",
        "\n",
        "utils.plot_history(history)\n"
      ]
    },
    {
      "cell_type": "code",
      "execution_count": null,
      "metadata": {},
      "outputs": [
        {
          "name": "stdout",
          "output_type": "stream",
          "text": [
            "Moviepy - Building video ../../video/reinforce_with_baseline.mp4.\n",
            "Moviepy - Writing video ../../video/reinforce_with_baseline.mp4\n",
            "\n"
          ]
        },
        {
          "name": "stderr",
          "output_type": "stream",
          "text": [
            "                                                               \r"
          ]
        },
        {
          "name": "stdout",
          "output_type": "stream",
          "text": [
            "Moviepy - Done !\n",
            "Moviepy - video ready ../../video/reinforce_with_baseline.mp4\n",
            "190.0\n"
          ]
        },
        {
          "data": {
            "text/html": [
              "<video width=400 controls><source src=\"data:video/mp4;base64,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\" type=\"video/mp4\"></video>"
            ],
            "text/plain": [
              "<IPython.core.display.HTML object>"
            ]
          },
          "execution_count": 8,
          "metadata": {},
          "output_type": "execute_result"
        }
      ],
      "source": [
        "\n",
        "reward, _ = utils.play_episode(agent, env, video_path=video_path, epsilon=0)\n",
        "print(reward)\n",
        "html=utils.render_mp4(video_path)\n",
        "HTML(html)\n"
      ]
    },
    {
      "cell_type": "code",
      "execution_count": null,
      "metadata": {},
      "outputs": [],
      "source": []
    }
  ],
  "metadata": {
    "colab": {
      "collapsed_sections": [],
      "include_colab_link": true,
      "provenance": []
    },
    "kernelspec": {
      "display_name": "Python 3.9.13 ('base')",
      "language": "python",
      "name": "python3"
    },
    "language_info": {
      "codemirror_mode": {
        "name": "ipython",
        "version": 3
      },
      "file_extension": ".py",
      "mimetype": "text/x-python",
      "name": "python",
      "nbconvert_exporter": "python",
      "pygments_lexer": "ipython3",
      "version": "3.9.13"
    },
    "vscode": {
      "interpreter": {
        "hash": "b007964239c9846de49217bea874a76b6e18c6041f326c6a02623c321aae0990"
      }
    }
  },
  "nbformat": 4,
  "nbformat_minor": 0
}
