{
  "cells": [
    {
      "cell_type": "code",
      "execution_count": 1,
      "metadata": {},
      "outputs": [
        {
          "name": "stderr",
          "output_type": "stream",
          "text": [
            "/Users/tonywy/micromamba/lib/python3.9/site-packages/tqdm/auto.py:22: TqdmWarning: IProgress not found. Please update jupyter and ipywidgets. See https://ipywidgets.readthedocs.io/en/stable/user_install.html\n",
            "  from .autonotebook import tqdm as notebook_tqdm\n"
          ]
        },
        {
          "name": "stdout",
          "output_type": "stream",
          "text": [
            "using device: cpu\n",
            "dqn_agent test passed!\n",
            "using device: cpu\n",
            "a2c_agent test passed!\n",
            "using device: cpu\n",
            "ppo_agent passed!\n"
          ]
        }
      ],
      "source": [
        "%load_ext autoreload\n",
        "%autoreload 2\n",
        "\n",
        "# Setup Environment\n",
        "import sys\n",
        "import os\n",
        "ROOT = '../../'\n",
        "sys.path.append(ROOT)\n",
        "\n",
        "from pettingzoo.classic import tictactoe_v3\n",
        "import numpy as np\n",
        "import copy\n",
        "from gym.wrappers.monitoring.video_recorder import VideoRecorder\n",
        "from IPython.display import HTML\n",
        "from source.agents.dqn_agent import DQNAgent\n",
        "from source.agents.advantage_actor_critic_agent import A2CAgent\n",
        "from source.agents.ppo_agent import PPOAgent\n",
        "from source.agents.random_agent import RandomAgent\n",
        "from source.utils import utils\n",
        "from tqdm import tqdm\n",
        "import torch\n",
        "import random\n",
        "from typing import Dict, Optional, Tuple\n",
        "from collections import defaultdict\n",
        "from source.agents.agent import Agent\n",
        "from pettingzoo.utils.env import AECEnv"
      ]
    },
    {
      "cell_type": "code",
      "execution_count": 18,
      "metadata": {},
      "outputs": [
        {
          "name": "stdout",
          "output_type": "stream",
          "text": [
            "using device: cpu\n",
            "using device: cpu\n",
            "using device: cpu\n"
          ]
        },
        {
          "name": "stderr",
          "output_type": "stream",
          "text": [
            "100%|██████████| 1000/1000 [00:02<00:00, 336.70it/s]\n"
          ]
        },
        {
          "name": "stdout",
          "output_type": "stream",
          "text": [
            "step: 0,  epsilon:None, average_return: 0.495, average_epi_len: 4.957, p1 win: 704, lose: 209, draw: 87, policy_loss: -0.08252673863185919, value_loss: 0.5087713207711931\n"
          ]
        },
        {
          "name": "stderr",
          "output_type": "stream",
          "text": [
            "100%|██████████| 1000/1000 [00:02<00:00, 361.65it/s]\n"
          ]
        },
        {
          "name": "stdout",
          "output_type": "stream",
          "text": [
            "step: 1,  epsilon:None, average_return: 0.462, average_epi_len: 4.989, p1 win: 683, lose: 221, draw: 96, policy_loss: -0.05958047099743271, value_loss: 0.4873256563656032\n"
          ]
        },
        {
          "name": "stderr",
          "output_type": "stream",
          "text": [
            "100%|██████████| 1000/1000 [00:02<00:00, 375.04it/s]\n"
          ]
        },
        {
          "name": "stdout",
          "output_type": "stream",
          "text": [
            "step: 2,  epsilon:None, average_return: 0.492, average_epi_len: 4.741, p1 win: 710, lose: 218, draw: 72, policy_loss: -0.04935002778681519, value_loss: 0.44099527755146845\n"
          ]
        },
        {
          "name": "stderr",
          "output_type": "stream",
          "text": [
            "100%|██████████| 1000/1000 [00:02<00:00, 366.24it/s]\n"
          ]
        },
        {
          "name": "stdout",
          "output_type": "stream",
          "text": [
            "step: 3,  epsilon:None, average_return: 0.517, average_epi_len: 4.876, p1 win: 728, lose: 211, draw: 61, policy_loss: -0.008811583107381012, value_loss: 0.3535596567876637\n"
          ]
        },
        {
          "name": "stderr",
          "output_type": "stream",
          "text": [
            "100%|██████████| 1000/1000 [00:02<00:00, 365.10it/s]\n"
          ]
        },
        {
          "name": "stdout",
          "output_type": "stream",
          "text": [
            "step: 4,  epsilon:None, average_return: 0.615, average_epi_len: 4.674, p1 win: 780, lose: 165, draw: 55, policy_loss: -0.03143034495454049, value_loss: 0.3255942959114909\n"
          ]
        },
        {
          "name": "stderr",
          "output_type": "stream",
          "text": [
            "100%|██████████| 1000/1000 [00:02<00:00, 402.39it/s]\n"
          ]
        },
        {
          "name": "stdout",
          "output_type": "stream",
          "text": [
            "step: 5,  epsilon:None, average_return: 0.739, average_epi_len: 4.422, p1 win: 850, lose: 111, draw: 39, policy_loss: -0.044606325796747115, value_loss: 0.24018731690116693\n"
          ]
        },
        {
          "name": "stderr",
          "output_type": "stream",
          "text": [
            "100%|██████████| 1000/1000 [00:02<00:00, 400.34it/s]\n"
          ]
        },
        {
          "name": "stdout",
          "output_type": "stream",
          "text": [
            "step: 6,  epsilon:None, average_return: 0.777, average_epi_len: 4.475, p1 win: 861, lose: 84, draw: 55, policy_loss: -0.02367806660849601, value_loss: 0.19039833187195473\n"
          ]
        },
        {
          "name": "stderr",
          "output_type": "stream",
          "text": [
            "100%|██████████| 1000/1000 [00:02<00:00, 359.16it/s]\n"
          ]
        },
        {
          "name": "stdout",
          "output_type": "stream",
          "text": [
            "step: 7,  epsilon:None, average_return: 0.777, average_epi_len: 4.425, p1 win: 868, lose: 91, draw: 41, policy_loss: -0.026882194919278846, value_loss: 0.1879560492641758\n"
          ]
        },
        {
          "name": "stderr",
          "output_type": "stream",
          "text": [
            "100%|██████████| 1000/1000 [00:02<00:00, 356.28it/s]\n"
          ]
        },
        {
          "name": "stdout",
          "output_type": "stream",
          "text": [
            "step: 8,  epsilon:None, average_return: 0.803, average_epi_len: 4.361, p1 win: 888, lose: 85, draw: 27, policy_loss: -0.019168965157936327, value_loss: 0.17819090918859\n"
          ]
        },
        {
          "name": "stderr",
          "output_type": "stream",
          "text": [
            "100%|██████████| 1000/1000 [00:02<00:00, 375.33it/s]\n"
          ]
        },
        {
          "name": "stdout",
          "output_type": "stream",
          "text": [
            "step: 9,  epsilon:None, average_return: 0.804, average_epi_len: 4.33, p1 win: 891, lose: 87, draw: 22, policy_loss: -0.013983670641464415, value_loss: 0.16989823678694665\n"
          ]
        },
        {
          "name": "stderr",
          "output_type": "stream",
          "text": [
            "100%|██████████| 1000/1000 [00:02<00:00, 362.60it/s]\n"
          ]
        },
        {
          "name": "stdout",
          "output_type": "stream",
          "text": [
            "step: 10,  epsilon:None, average_return: 0.835, average_epi_len: 4.338, p1 win: 903, lose: 68, draw: 29, policy_loss: -0.025296040746645303, value_loss: 0.14428936559913563\n"
          ]
        },
        {
          "name": "stderr",
          "output_type": "stream",
          "text": [
            "100%|██████████| 1000/1000 [00:02<00:00, 374.75it/s]\n"
          ]
        },
        {
          "name": "stdout",
          "output_type": "stream",
          "text": [
            "step: 11,  epsilon:None, average_return: 0.847, average_epi_len: 4.266, p1 win: 914, lose: 67, draw: 19, policy_loss: -0.02611528937883486, value_loss: 0.1396604594423261\n"
          ]
        },
        {
          "name": "stderr",
          "output_type": "stream",
          "text": [
            "100%|██████████| 1000/1000 [00:02<00:00, 375.20it/s]\n"
          ]
        },
        {
          "name": "stdout",
          "output_type": "stream",
          "text": [
            "step: 12,  epsilon:None, average_return: 0.852, average_epi_len: 4.284, p1 win: 916, lose: 64, draw: 20, policy_loss: -0.01954568437908165, value_loss: 0.13633036598886247\n"
          ]
        },
        {
          "name": "stderr",
          "output_type": "stream",
          "text": [
            "100%|██████████| 1000/1000 [00:02<00:00, 393.32it/s]\n"
          ]
        },
        {
          "name": "stdout",
          "output_type": "stream",
          "text": [
            "step: 13,  epsilon:None, average_return: 0.855, average_epi_len: 4.315, p1 win: 911, lose: 56, draw: 33, policy_loss: -0.007661921915059793, value_loss: 0.1151338371866732\n"
          ]
        },
        {
          "name": "stderr",
          "output_type": "stream",
          "text": [
            "100%|██████████| 1000/1000 [00:02<00:00, 394.80it/s]\n"
          ]
        },
        {
          "name": "stdout",
          "output_type": "stream",
          "text": [
            "step: 14,  epsilon:None, average_return: 0.825, average_epi_len: 4.299, p1 win: 900, lose: 75, draw: 25, policy_loss: -0.03690486844087718, value_loss: 0.1552836704700603\n"
          ]
        },
        {
          "name": "stderr",
          "output_type": "stream",
          "text": [
            "100%|██████████| 1000/1000 [00:02<00:00, 385.12it/s]\n"
          ]
        },
        {
          "name": "stdout",
          "output_type": "stream",
          "text": [
            "step: 15,  epsilon:None, average_return: 0.815, average_epi_len: 4.314, p1 win: 896, lose: 81, draw: 23, policy_loss: -0.028919391403440384, value_loss: 0.15371670247410657\n"
          ]
        },
        {
          "name": "stderr",
          "output_type": "stream",
          "text": [
            "100%|██████████| 1000/1000 [00:02<00:00, 394.62it/s]\n"
          ]
        },
        {
          "name": "stdout",
          "output_type": "stream",
          "text": [
            "step: 16,  epsilon:None, average_return: 0.824, average_epi_len: 4.382, p1 win: 894, lose: 70, draw: 36, policy_loss: -0.012509708871191834, value_loss: 0.14074448922474403\n"
          ]
        },
        {
          "name": "stderr",
          "output_type": "stream",
          "text": [
            "100%|██████████| 1000/1000 [00:02<00:00, 410.23it/s]\n"
          ]
        },
        {
          "name": "stdout",
          "output_type": "stream",
          "text": [
            "step: 17,  epsilon:None, average_return: 0.787, average_epi_len: 4.358, p1 win: 867, lose: 80, draw: 53, policy_loss: -0.02687269533064682, value_loss: 0.15666733021941037\n"
          ]
        },
        {
          "name": "stderr",
          "output_type": "stream",
          "text": [
            "100%|██████████| 1000/1000 [00:02<00:00, 408.45it/s]\n"
          ]
        },
        {
          "name": "stdout",
          "output_type": "stream",
          "text": [
            "step: 18,  epsilon:None, average_return: 0.771, average_epi_len: 4.425, p1 win: 858, lose: 87, draw: 55, policy_loss: -0.019594815693388227, value_loss: 0.1633184369316441\n"
          ]
        },
        {
          "name": "stderr",
          "output_type": "stream",
          "text": [
            "100%|██████████| 1000/1000 [00:02<00:00, 404.76it/s]\n"
          ]
        },
        {
          "name": "stdout",
          "output_type": "stream",
          "text": [
            "step: 19,  epsilon:None, average_return: 0.789, average_epi_len: 4.439, p1 win: 864, lose: 75, draw: 61, policy_loss: -0.014333881062615546, value_loss: 0.14930786959338002\n"
          ]
        },
        {
          "name": "stderr",
          "output_type": "stream",
          "text": [
            "100%|██████████| 1000/1000 [00:02<00:00, 409.68it/s]\n"
          ]
        },
        {
          "name": "stdout",
          "output_type": "stream",
          "text": [
            "step: 20,  epsilon:None, average_return: 0.792, average_epi_len: 4.401, p1 win: 868, lose: 76, draw: 56, policy_loss: -0.020980573229018775, value_loss: 0.14048018880345625\n"
          ]
        },
        {
          "name": "stderr",
          "output_type": "stream",
          "text": [
            "100%|██████████| 1000/1000 [00:02<00:00, 412.03it/s]\n"
          ]
        },
        {
          "name": "stdout",
          "output_type": "stream",
          "text": [
            "step: 21,  epsilon:None, average_return: 0.77, average_epi_len: 4.383, p1 win: 860, lose: 90, draw: 50, policy_loss: -0.014981618147292465, value_loss: 0.15851533213397487\n"
          ]
        },
        {
          "name": "stderr",
          "output_type": "stream",
          "text": [
            "100%|██████████| 1000/1000 [00:02<00:00, 402.99it/s]\n"
          ]
        },
        {
          "name": "stdout",
          "output_type": "stream",
          "text": [
            "step: 22,  epsilon:None, average_return: 0.804, average_epi_len: 4.412, p1 win: 880, lose: 76, draw: 44, policy_loss: -0.007093952333774723, value_loss: 0.14224499805830418\n"
          ]
        },
        {
          "name": "stderr",
          "output_type": "stream",
          "text": [
            "100%|██████████| 1000/1000 [00:02<00:00, 401.96it/s]\n"
          ]
        },
        {
          "name": "stdout",
          "output_type": "stream",
          "text": [
            "step: 23,  epsilon:None, average_return: 0.788, average_epi_len: 4.425, p1 win: 867, lose: 79, draw: 54, policy_loss: -0.00902003328554747, value_loss: 0.14838412140521906\n"
          ]
        },
        {
          "name": "stderr",
          "output_type": "stream",
          "text": [
            "100%|██████████| 1000/1000 [00:02<00:00, 396.55it/s]\n"
          ]
        },
        {
          "name": "stdout",
          "output_type": "stream",
          "text": [
            "step: 24,  epsilon:None, average_return: 0.774, average_epi_len: 4.413, p1 win: 867, lose: 93, draw: 40, policy_loss: -0.012953634877980222, value_loss: 0.158828221774078\n"
          ]
        },
        {
          "name": "stderr",
          "output_type": "stream",
          "text": [
            "100%|██████████| 1000/1000 [00:02<00:00, 391.59it/s]\n"
          ]
        },
        {
          "name": "stdout",
          "output_type": "stream",
          "text": [
            "step: 25,  epsilon:None, average_return: 0.697, average_epi_len: 4.451, p1 win: 818, lose: 121, draw: 61, policy_loss: -0.009285075428598247, value_loss: 0.2072363544057589\n"
          ]
        },
        {
          "name": "stderr",
          "output_type": "stream",
          "text": [
            "100%|██████████| 1000/1000 [00:02<00:00, 376.28it/s]\n"
          ]
        },
        {
          "name": "stdout",
          "output_type": "stream",
          "text": [
            "step: 26,  epsilon:None, average_return: 0.773, average_epi_len: 4.428, p1 win: 855, lose: 82, draw: 63, policy_loss: -0.00574560971745376, value_loss: 0.13725825945474207\n"
          ]
        },
        {
          "name": "stderr",
          "output_type": "stream",
          "text": [
            "100%|██████████| 1000/1000 [00:02<00:00, 392.21it/s]\n"
          ]
        },
        {
          "name": "stdout",
          "output_type": "stream",
          "text": [
            "step: 27,  epsilon:None, average_return: 0.755, average_epi_len: 4.417, p1 win: 850, lose: 95, draw: 55, policy_loss: -0.009176974536957289, value_loss: 0.16329540882248694\n"
          ]
        },
        {
          "name": "stderr",
          "output_type": "stream",
          "text": [
            "100%|██████████| 1000/1000 [00:02<00:00, 396.30it/s]\n"
          ]
        },
        {
          "name": "stdout",
          "output_type": "stream",
          "text": [
            "step: 28,  epsilon:None, average_return: 0.792, average_epi_len: 4.426, p1 win: 872, lose: 80, draw: 48, policy_loss: -0.008649918158953369, value_loss: 0.14123491649329661\n"
          ]
        },
        {
          "name": "stderr",
          "output_type": "stream",
          "text": [
            "100%|██████████| 1000/1000 [00:02<00:00, 402.55it/s]\n"
          ]
        },
        {
          "name": "stdout",
          "output_type": "stream",
          "text": [
            "step: 29,  epsilon:None, average_return: 0.747, average_epi_len: 4.399, p1 win: 846, lose: 99, draw: 55, policy_loss: -0.0003089729399705448, value_loss: 0.16056471854797563\n"
          ]
        },
        {
          "name": "stderr",
          "output_type": "stream",
          "text": [
            "100%|██████████| 1000/1000 [00:02<00:00, 395.44it/s]\n"
          ]
        },
        {
          "name": "stdout",
          "output_type": "stream",
          "text": [
            "step: 30,  epsilon:None, average_return: 0.772, average_epi_len: 4.437, p1 win: 855, lose: 83, draw: 62, policy_loss: -0.00835537876535318, value_loss: 0.14915284836641513\n"
          ]
        },
        {
          "name": "stderr",
          "output_type": "stream",
          "text": [
            "100%|██████████| 1000/1000 [00:02<00:00, 395.09it/s]\n"
          ]
        },
        {
          "name": "stdout",
          "output_type": "stream",
          "text": [
            "step: 31,  epsilon:None, average_return: 0.79, average_epi_len: 4.372, p1 win: 877, lose: 87, draw: 36, policy_loss: -0.006061322646956683, value_loss: 0.14814551659132122\n"
          ]
        },
        {
          "name": "stderr",
          "output_type": "stream",
          "text": [
            "100%|██████████| 1000/1000 [00:02<00:00, 390.69it/s]\n"
          ]
        },
        {
          "name": "stdout",
          "output_type": "stream",
          "text": [
            "step: 32,  epsilon:None, average_return: 0.776, average_epi_len: 4.434, p1 win: 866, lose: 90, draw: 44, policy_loss: -0.008599111174183008, value_loss: 0.16662062394741223\n"
          ]
        },
        {
          "name": "stderr",
          "output_type": "stream",
          "text": [
            "100%|██████████| 1000/1000 [00:02<00:00, 394.48it/s]\n"
          ]
        },
        {
          "name": "stdout",
          "output_type": "stream",
          "text": [
            "step: 33,  epsilon:None, average_return: 0.792, average_epi_len: 4.397, p1 win: 877, lose: 85, draw: 38, policy_loss: -0.007734279575201072, value_loss: 0.16356020742165855\n"
          ]
        },
        {
          "name": "stderr",
          "output_type": "stream",
          "text": [
            "100%|██████████| 1000/1000 [00:02<00:00, 394.01it/s]\n"
          ]
        },
        {
          "name": "stdout",
          "output_type": "stream",
          "text": [
            "step: 34,  epsilon:None, average_return: 0.748, average_epi_len: 4.415, p1 win: 848, lose: 100, draw: 52, policy_loss: -0.016525149444188172, value_loss: 0.17460521214664915\n"
          ]
        },
        {
          "name": "stderr",
          "output_type": "stream",
          "text": [
            "100%|██████████| 1000/1000 [00:02<00:00, 401.46it/s]\n"
          ]
        },
        {
          "name": "stdout",
          "output_type": "stream",
          "text": [
            "step: 35,  epsilon:None, average_return: 0.701, average_epi_len: 4.482, p1 win: 811, lose: 110, draw: 79, policy_loss: -0.0191700690108089, value_loss: 0.18577650896005798\n"
          ]
        },
        {
          "name": "stderr",
          "output_type": "stream",
          "text": [
            "100%|██████████| 1000/1000 [00:02<00:00, 404.31it/s]\n"
          ]
        },
        {
          "name": "stdout",
          "output_type": "stream",
          "text": [
            "step: 36,  epsilon:None, average_return: 0.759, average_epi_len: 4.478, p1 win: 846, lose: 87, draw: 67, policy_loss: -0.005324095277593642, value_loss: 0.15214956372138114\n"
          ]
        },
        {
          "name": "stderr",
          "output_type": "stream",
          "text": [
            "100%|██████████| 1000/1000 [00:02<00:00, 403.94it/s]\n"
          ]
        },
        {
          "name": "stdout",
          "output_type": "stream",
          "text": [
            "step: 37,  epsilon:None, average_return: 0.729, average_epi_len: 4.458, p1 win: 829, lose: 100, draw: 71, policy_loss: -0.010132370745384605, value_loss: 0.16467083225259557\n"
          ]
        },
        {
          "name": "stderr",
          "output_type": "stream",
          "text": [
            "100%|██████████| 1000/1000 [00:02<00:00, 401.80it/s]\n"
          ]
        },
        {
          "name": "stdout",
          "output_type": "stream",
          "text": [
            "step: 38,  epsilon:None, average_return: 0.773, average_epi_len: 4.458, p1 win: 849, lose: 76, draw: 75, policy_loss: -0.008794816065582836, value_loss: 0.15313237793080042\n"
          ]
        },
        {
          "name": "stderr",
          "output_type": "stream",
          "text": [
            "100%|██████████| 1000/1000 [00:02<00:00, 403.97it/s]\n"
          ]
        },
        {
          "name": "stdout",
          "output_type": "stream",
          "text": [
            "step: 39,  epsilon:None, average_return: 0.827, average_epi_len: 4.431, p1 win: 891, lose: 64, draw: 45, policy_loss: -0.008808609079996017, value_loss: 0.13360898057185114\n"
          ]
        },
        {
          "name": "stderr",
          "output_type": "stream",
          "text": [
            "100%|██████████| 1000/1000 [00:02<00:00, 398.70it/s]\n"
          ]
        },
        {
          "name": "stdout",
          "output_type": "stream",
          "text": [
            "step: 40,  epsilon:None, average_return: 0.801, average_epi_len: 4.436, p1 win: 877, lose: 76, draw: 47, policy_loss: -0.007842638010575257, value_loss: 0.14761792290816084\n"
          ]
        },
        {
          "name": "stderr",
          "output_type": "stream",
          "text": [
            "100%|██████████| 1000/1000 [00:02<00:00, 412.59it/s]\n"
          ]
        },
        {
          "name": "stdout",
          "output_type": "stream",
          "text": [
            "step: 41,  epsilon:None, average_return: 0.85, average_epi_len: 4.363, p1 win: 904, lose: 54, draw: 42, policy_loss: -0.015097210270696678, value_loss: 0.1305963008584222\n"
          ]
        },
        {
          "name": "stderr",
          "output_type": "stream",
          "text": [
            "100%|██████████| 1000/1000 [00:02<00:00, 412.29it/s]\n"
          ]
        },
        {
          "name": "stdout",
          "output_type": "stream",
          "text": [
            "step: 42,  epsilon:None, average_return: 0.916, average_epi_len: 4.299, p1 win: 943, lose: 27, draw: 30, policy_loss: -0.012551669938580517, value_loss: 0.06731520132867445\n"
          ]
        },
        {
          "name": "stderr",
          "output_type": "stream",
          "text": [
            "100%|██████████| 1000/1000 [00:02<00:00, 400.41it/s]\n"
          ]
        },
        {
          "name": "stdout",
          "output_type": "stream",
          "text": [
            "step: 43,  epsilon:None, average_return: 0.879, average_epi_len: 4.379, p1 win: 921, lose: 42, draw: 37, policy_loss: -0.017710341993816315, value_loss: 0.12722269632938332\n"
          ]
        },
        {
          "name": "stderr",
          "output_type": "stream",
          "text": [
            "100%|██████████| 1000/1000 [00:02<00:00, 380.77it/s]\n"
          ]
        },
        {
          "name": "stdout",
          "output_type": "stream",
          "text": [
            "step: 44,  epsilon:None, average_return: 0.807, average_epi_len: 4.281, p1 win: 892, lose: 85, draw: 23, policy_loss: -0.03160002230427927, value_loss: 0.18024143028794787\n"
          ]
        },
        {
          "name": "stderr",
          "output_type": "stream",
          "text": [
            "100%|██████████| 1000/1000 [00:02<00:00, 400.22it/s]\n"
          ]
        },
        {
          "name": "stdout",
          "output_type": "stream",
          "text": [
            "step: 45,  epsilon:None, average_return: 0.856, average_epi_len: 4.23, p1 win: 912, lose: 56, draw: 32, policy_loss: -0.021271111433788972, value_loss: 0.10560903741087532\n"
          ]
        },
        {
          "name": "stderr",
          "output_type": "stream",
          "text": [
            "100%|██████████| 1000/1000 [00:02<00:00, 398.86it/s]\n"
          ]
        },
        {
          "name": "stdout",
          "output_type": "stream",
          "text": [
            "step: 46,  epsilon:None, average_return: 0.851, average_epi_len: 4.227, p1 win: 915, lose: 64, draw: 21, policy_loss: -0.008288707464649632, value_loss: 0.12259712192427832\n"
          ]
        },
        {
          "name": "stderr",
          "output_type": "stream",
          "text": [
            "100%|██████████| 1000/1000 [00:02<00:00, 410.39it/s]\n"
          ]
        },
        {
          "name": "stdout",
          "output_type": "stream",
          "text": [
            "step: 47,  epsilon:None, average_return: 0.875, average_epi_len: 4.195, p1 win: 930, lose: 55, draw: 15, policy_loss: -0.023510354457057472, value_loss: 0.1056766428729461\n"
          ]
        },
        {
          "name": "stderr",
          "output_type": "stream",
          "text": [
            "100%|██████████| 1000/1000 [00:02<00:00, 399.19it/s]\n"
          ]
        },
        {
          "name": "stdout",
          "output_type": "stream",
          "text": [
            "step: 48,  epsilon:None, average_return: 0.899, average_epi_len: 4.187, p1 win: 942, lose: 43, draw: 15, policy_loss: -0.025907317674644218, value_loss: 0.09981489440864606\n"
          ]
        },
        {
          "name": "stderr",
          "output_type": "stream",
          "text": [
            "100%|██████████| 1000/1000 [00:02<00:00, 411.83it/s]\n"
          ]
        },
        {
          "name": "stdout",
          "output_type": "stream",
          "text": [
            "step: 49,  epsilon:None, average_return: 0.88, average_epi_len: 4.198, p1 win: 932, lose: 52, draw: 16, policy_loss: -0.013962627613547966, value_loss: 0.10972546609307392\n"
          ]
        },
        {
          "name": "stderr",
          "output_type": "stream",
          "text": [
            "100%|██████████| 1000/1000 [00:02<00:00, 388.13it/s]\n"
          ]
        },
        {
          "name": "stdout",
          "output_type": "stream",
          "text": [
            "step: 50,  epsilon:None, average_return: 0.857, average_epi_len: 4.233, p1 win: 918, lose: 61, draw: 21, policy_loss: -0.019180169051438496, value_loss: 0.1455124715052807\n"
          ]
        },
        {
          "name": "stderr",
          "output_type": "stream",
          "text": [
            "100%|██████████| 1000/1000 [00:02<00:00, 405.90it/s]\n"
          ]
        },
        {
          "name": "stdout",
          "output_type": "stream",
          "text": [
            "step: 51,  epsilon:None, average_return: 0.875, average_epi_len: 4.253, p1 win: 925, lose: 50, draw: 25, policy_loss: -0.03015623855695594, value_loss: 0.13214771207180456\n"
          ]
        },
        {
          "name": "stderr",
          "output_type": "stream",
          "text": [
            "100%|██████████| 1000/1000 [00:02<00:00, 404.55it/s]\n"
          ]
        },
        {
          "name": "stdout",
          "output_type": "stream",
          "text": [
            "step: 52,  epsilon:None, average_return: 0.892, average_epi_len: 4.249, p1 win: 935, lose: 43, draw: 22, policy_loss: -0.04434472434426425, value_loss: 0.12526452560941106\n"
          ]
        },
        {
          "name": "stderr",
          "output_type": "stream",
          "text": [
            "100%|██████████| 1000/1000 [00:02<00:00, 409.16it/s]\n"
          ]
        },
        {
          "name": "stdout",
          "output_type": "stream",
          "text": [
            "step: 53,  epsilon:None, average_return: 0.889, average_epi_len: 4.225, p1 win: 939, lose: 50, draw: 11, policy_loss: -0.03078823495536926, value_loss: 0.11613258409719857\n"
          ]
        },
        {
          "name": "stderr",
          "output_type": "stream",
          "text": [
            "100%|██████████| 1000/1000 [00:02<00:00, 410.18it/s]\n"
          ]
        },
        {
          "name": "stdout",
          "output_type": "stream",
          "text": [
            "step: 54,  epsilon:None, average_return: 0.898, average_epi_len: 4.189, p1 win: 941, lose: 43, draw: 16, policy_loss: -0.027666137135374812, value_loss: 0.09996105689523392\n"
          ]
        },
        {
          "name": "stderr",
          "output_type": "stream",
          "text": [
            "100%|██████████| 1000/1000 [00:02<00:00, 403.52it/s]\n"
          ]
        },
        {
          "name": "stdout",
          "output_type": "stream",
          "text": [
            "step: 55,  epsilon:None, average_return: 0.907, average_epi_len: 4.2, p1 win: 944, lose: 37, draw: 19, policy_loss: -0.03245988906171988, value_loss: 0.09335321450746778\n"
          ]
        },
        {
          "name": "stderr",
          "output_type": "stream",
          "text": [
            "100%|██████████| 1000/1000 [00:02<00:00, 406.61it/s]\n"
          ]
        },
        {
          "name": "stdout",
          "output_type": "stream",
          "text": [
            "step: 56,  epsilon:None, average_return: 0.917, average_epi_len: 4.171, p1 win: 949, lose: 32, draw: 19, policy_loss: -0.027891758234414737, value_loss: 0.0769499619923772\n"
          ]
        },
        {
          "name": "stderr",
          "output_type": "stream",
          "text": [
            "100%|██████████| 1000/1000 [00:02<00:00, 411.32it/s]\n"
          ]
        },
        {
          "name": "stdout",
          "output_type": "stream",
          "text": [
            "step: 57,  epsilon:None, average_return: 0.917, average_epi_len: 4.186, p1 win: 950, lose: 33, draw: 17, policy_loss: -0.026366918505445938, value_loss: 0.08448230350503581\n"
          ]
        },
        {
          "name": "stderr",
          "output_type": "stream",
          "text": [
            "100%|██████████| 1000/1000 [00:02<00:00, 401.97it/s]\n"
          ]
        },
        {
          "name": "stdout",
          "output_type": "stream",
          "text": [
            "step: 58,  epsilon:None, average_return: 0.902, average_epi_len: 4.218, p1 win: 940, lose: 38, draw: 22, policy_loss: -0.033901729753146356, value_loss: 0.10039040321627545\n"
          ]
        },
        {
          "name": "stderr",
          "output_type": "stream",
          "text": [
            "100%|██████████| 1000/1000 [00:02<00:00, 408.11it/s]\n"
          ]
        },
        {
          "name": "stdout",
          "output_type": "stream",
          "text": [
            "step: 59,  epsilon:None, average_return: 0.904, average_epi_len: 4.177, p1 win: 946, lose: 42, draw: 12, policy_loss: -0.02931582456644537, value_loss: 0.09758943352531059\n"
          ]
        },
        {
          "data": {
            "image/png": "[encoded data removed]",
            "text/plain": [
              "<Figure size 1600x400 with 1 Axes>"
            ]
          },
          "metadata": {},
          "output_type": "display_data"
        }
      ],
      "source": [
        "# Policy Eval\n",
        "# Params\n",
        "num_epoch = 60\n",
        "num_episode = 1000\n",
        "random_seed = 101\n",
        "\n",
        "# Initialize\n",
        "# set random seeds\n",
        "rng = np.random.default_rng(random_seed)\n",
        "#random.seed(random_seed)\n",
        "#torch.manual_seed(random_seed)\n",
        "# epsilon decay\n",
        "\n",
        "# Create Environment.\n",
        "#env = gym.make('Taxi-v3')\n",
        "# using render_mode=rgb_array so that video recording works\n",
        "#env = gym.make(\n",
        "#    \"LunarLander-v2\",\n",
        "#    render_mode='rgb_array'\n",
        "#)\n",
        "#env = gym.make(\"CarRacing-v2\", render_mode='rgb_array', continuous=False)\n",
        "#env = gym.make(\"CartPole-v1\", render_mode='rgb_array')\n",
        "\n",
        "env = tictactoe_v3.env()\n",
        "env.np_random = rng\n",
        "\n",
        "# Create Agent\n",
        "dqn_agent = DQNAgent(\n",
        "    state_space=env.observation_space('player_1')['observation'],\n",
        "    action_space=env.action_space('player_1'),\n",
        "    discount_rate=0.7,\n",
        "    epsilon=0.9, # use epsilon_schedule\n",
        "    learning_rate=1e-3,\n",
        "    learning=True,\n",
        "    batch_size = 32,\n",
        "    tau = 0.005,\n",
        "    eps_decay=1e8, #1e7 for (dqn, random), 1e8 for (dqn, dqn)\n",
        "    net_params={'width':16, 'n_hidden':1},\n",
        "    update_freq=1\n",
        ")\n",
        "a2c_agent = A2CAgent(\n",
        "    state_space=env.observation_space('player_1')['observation'],\n",
        "    action_space=env.action_space('player_1'),\n",
        "    discount_rate=0.7,\n",
        "    epsilon=None, # use epsilon_schedule\n",
        "    learning_rate=None,\n",
        "    policy_lr=1e-3,\n",
        "    value_lr=1e-2,\n",
        "    net_params={'width':128, 'n_hidden':1}, #128 perform best with temp = 1\n",
        "    tempreture=1\n",
        ")\n",
        "ppo_agent = PPOAgent(\n",
        "    state_space=env.observation_space('player_1')['observation'],\n",
        "    action_space=env.action_space('player_1'),\n",
        "    discount_rate=0.99,\n",
        "    epsilon=None, # use epsilon_schedule\n",
        "    learning_rate=None,\n",
        "    policy_lr=1e-3,\n",
        "    value_lr=1e-3,\n",
        "    net_params={'width':128, 'n_hidden':1},\n",
        "    exp_average_discount=1.0,\n",
        "    clip_ratio=0.1,\n",
        "    num_updates=1,\n",
        ")\n",
        "\n",
        "random_agent = RandomAgent(    \n",
        "    state_space=env.observation_space('player_2')['observation'],\n",
        "    action_space=env.action_space('player_2'),\n",
        "    discount_rate=None,\n",
        "    epsilon=None, # use epsilon_schedule\n",
        "    learning_rate=None,\n",
        "    learning=False\n",
        ")\n",
        "\n",
        "agent_dict = {'player_1': a2c_agent, 'player_2':random_agent}\n",
        "reward_history = []\n",
        "# Start Learning\n",
        "for i in range(num_epoch):\n",
        "    p1_reward, episode_len, policy_loss, value_loss = [], [], [], []\n",
        "    for _ in tqdm(range(num_episode)):\n",
        "        reward, len, vloss, ploss = utils.play_multiagent_episode(agent_dict, env, shuffle=False)#,epsilon=epsilon_schedule[i])\n",
        "        p1_reward.append(reward['player_1'])\n",
        "        episode_len.append(len['player_1'])\n",
        "        policy_loss.append(ploss['player_1'])\n",
        "        value_loss.append(vloss['player_1'])\n",
        "    reward_history += p1_reward\n",
        "    print(\n",
        "        f\"step: {i},  epsilon:{agent_dict['player_1']._epsilon}, average_return: {np.mean(p1_reward)}, average_epi_len: {np.mean(episode_len)}, p1 win: {p1_reward.count(1)}, lose: {p1_reward.count(-1)}, draw: {p1_reward.count(0)}, policy_loss: {np.mean(policy_loss)}, value_loss: {np.mean(value_loss)}\")\n",
        "\n",
        "utils.plot_history(reward_history)\n",
        "#utils.plot_history(eps_history, smoothing=False)"
      ]
    },
    {
      "cell_type": "code",
      "execution_count": 6,
      "metadata": {},
      "outputs": [
        {
          "name": "stdout",
          "output_type": "stream",
          "text": [
            "     |     |     \n",
            "  -  |  X  |  -  \n",
            "_____|_____|_____\n",
            "     |     |     \n",
            "  -  |  -  |  -  \n",
            "_____|_____|_____\n",
            "     |     |     \n",
            "  -  |  -  |  -  \n",
            "     |     |     \n",
            "     |     |     \n",
            "  -  |  X  |  -  \n",
            "_____|_____|_____\n",
            "     |     |     \n",
            "  -  |  O  |  -  \n",
            "_____|_____|_____\n",
            "     |     |     \n",
            "  -  |  -  |  -  \n",
            "     |     |     \n",
            "     |     |     \n",
            "  -  |  X  |  -  \n",
            "_____|_____|_____\n",
            "     |     |     \n",
            "  -  |  O  |  -  \n",
            "_____|_____|_____\n",
            "     |     |     \n",
            "  -  |  X  |  -  \n",
            "     |     |     \n",
            "     |     |     \n",
            "  -  |  X  |  -  \n",
            "_____|_____|_____\n",
            "     |     |     \n",
            "  -  |  O  |  -  \n",
            "_____|_____|_____\n",
            "     |     |     \n",
            "  O  |  X  |  -  \n",
            "     |     |     \n",
            "     |     |     \n",
            "  -  |  X  |  X  \n",
            "_____|_____|_____\n",
            "     |     |     \n",
            "  -  |  O  |  -  \n",
            "_____|_____|_____\n",
            "     |     |     \n",
            "  O  |  X  |  -  \n",
            "     |     |     \n",
            "     |     |     \n",
            "  -  |  X  |  X  \n",
            "_____|_____|_____\n",
            "     |     |     \n",
            "  -  |  O  |  O  \n",
            "_____|_____|_____\n",
            "     |     |     \n",
            "  O  |  X  |  -  \n",
            "     |     |     \n",
            "     |     |     \n",
            "  X  |  X  |  X  \n",
            "_____|_____|_____\n",
            "     |     |     \n",
            "  -  |  O  |  O  \n",
            "_____|_____|_____\n",
            "     |     |     \n",
            "  O  |  X  |  -  \n",
            "     |     |     \n"
          ]
        },
        {
          "data": {
            "text/plain": [
              "(defaultdict(float, {'player_1': 1.0, 'player_2': -1.0}),\n",
              " defaultdict(int, {'player_1': 5, 'player_2': 4}),\n",
              " defaultdict(float, {'player_1': 0.05213126540184021}),\n",
              " defaultdict(float, {'player_1': -0.13190419971942902}))"
            ]
          },
          "execution_count": 6,
          "metadata": {},
          "output_type": "execute_result"
        }
      ],
      "source": [
        "env = tictactoe_v3.env(render_mode='human')\n",
        "utils.play_multiagent_episode({'player_1': agent_dict['player_1'], 'player_2':agent_dict['player_2']}, env)\n",
        "#html=utils.render_mp4(video_path)\n",
        "#HTML(html)\n"
      ]
    },
    {
      "cell_type": "markdown",
      "metadata": {},
      "source": []
    },
    {
      "cell_type": "code",
      "execution_count": null,
      "metadata": {},
      "outputs": [],
      "source": []
    },
    {
      "cell_type": "code",
      "execution_count": null,
      "metadata": {},
      "outputs": [],
      "source": []
    }
  ],
  "metadata": {
    "colab": {
      "collapsed_sections": [],
      "include_colab_link": true,
      "provenance": []
    },
    "kernelspec": {
      "display_name": "Python 3.9.13 ('base')",
      "language": "python",
      "name": "python3"
    },
    "language_info": {
      "codemirror_mode": {
        "name": "ipython",
        "version": 3
      },
      "file_extension": ".py",
      "mimetype": "text/x-python",
      "name": "python",
      "nbconvert_exporter": "python",
      "pygments_lexer": "ipython3",
      "version": "3.9.13"
    },
    "vscode": {
      "interpreter": {
        "hash": "b007964239c9846de49217bea874a76b6e18c6041f326c6a02623c321aae0990"
      }
    }
  },
  "nbformat": 4,
  "nbformat_minor": 0
}
